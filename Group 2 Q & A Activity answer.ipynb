{
 "cells": [
  {
   "cell_type": "markdown",
   "metadata": {},
   "source": [
    "## 1. Complete the following code to find the area of an equilateral triangle. Output should be as displayed"
   ]
  },
  {
   "cell_type": "code",
   "execution_count": 1,
   "metadata": {
    "scrolled": true
   },
   "outputs": [
    {
     "name": "stdout",
     "output_type": "stream",
     "text": [
      "Enter the side of the equilateral triangle: 3\n",
      "\n",
      " Area = 3.897\n"
     ]
    }
   ],
   "source": [
    "import math\n",  
    "side = float(input(\"Enter the side of the equilateral triangle: \"))      #Contributors  Rasal, Maya, Aboobacker, Ajeesh, Darsana  \n",  
    "area = ((math.sqrt(3))/4)*pow(side,2)\n",
    "print(\"\\n Area = %.3f\" %area)\n"
   ]
  },
  {
   "cell_type": "markdown",
   "metadata": {},
   "source": [
    "## 2. Write a program to count the number of each characters in a string"
   ]
  },
  {
   "cell_type": "code",
   "execution_count": 3,
   "metadata": {},
   "outputs": [
    {
     "name": "stdout",
     "output_type": "stream",
     "text": [
      "Enter the string Hello world\n",
      "H = 1\n",
      "e = 1\n",
      "l = 3\n",
      "o = 2\n",
      "  = 1\n",
      "w = 1\n",
      "r = 1\n",
      "d = 1\n"
     ]
    }
   ],
   "source": [
    "word=input('Enter the string : ')\n",
    "s_count=[]\n",
    "for i in word:\n",
    "    if i not in s_count:\n",
    "        s_count.append(i)\n",
    "for j in s_count:\n",
    "    print(j,word.count(j),sep=\" = \")"
   ]
  },
  {
   "cell_type": "markdown",
   "metadata": {},
   "source": [
    "## 3. Write a program to find the area and perimeter of a rectangle using functions"
   ]
  },
  {
   "cell_type": "code",
   "execution_count": 4,
   "metadata": {},
   "outputs": [
    {
     "name": "stdout",
     "output_type": "stream",
     "text": [
      "Enter the length of the rectangle : 3\n",
      "Enter the breadth of the rectangle : 4\n",
      "Area of the rectangle = 12.0\n",
      "Perimeter of the rectangle =  14.0\n"
     ]
    }
   ],
   "source": [
    "def rec_area(l,b):\n",
    "    return(l*b)\n",
    "def rec_perimeter(l,b):\n",
    "    return(2*(l+b))\n",
    "x = float(input('Enter the length of the rectangle : '))\n",
    "y = float(input('Enter the breadth of the rectangle : '))\n",
    "print('Area of the rectangle =', rec_area(x,y))\n",
    "print('Perimeter of the rectangle = ', rec_perimeter(x,y))"
   ]
  },
  {
   "cell_type": "markdown",
   "metadata": {},
   "source": [
    "## 4. Write a program to print the fibonacci series till a specified number"
   ]
  },
  {
   "cell_type": "code",
   "execution_count": 5,
   "metadata": {},
   "outputs": [
    {
     "name": "stdout",
     "output_type": "stream",
     "text": [
      "Enter your specified number 50\n",
      "The fibonacci series till 50 given is  0  1  1  2  3  5  8  13  21  34  "
     ]
    }
   ],
   "source": [
    "limit= int(input(\"Enter your specified number \"))\n",
    "i=1\n",
    "j=0\n",
    "add=0\n",
    "if limit<0:\n",
    "    print(\"Please enter a positive number\")\n",
    "else:\n",
    "    print(\"The fibonacci series till\", limit, \"given is \",j,end=\"  \")\n",
    "    while add<=limit:\n",
    "        add=i+j\n",
    "        i=j\n",
    "        j=add\n",
    "        if add<=limit:    \n",
    "            print(add,end=\"  \")"
   ]
  },
  {
   "cell_type": "markdown",
   "metadata": {},
   "source": [
    "## 5. Complete the following code to find the minimum of 3 number using conditional statements. Output should be as displayed"
   ]
  },
  {
   "cell_type": "code",
   "execution_count": 6,
   "metadata": {},
   "outputs": [
    {
     "name": "stdout",
     "output_type": "stream",
     "text": [
      "Enter three numbers followed by  : -10 -10 25\n",
      "First number : -10\n",
      "Second number : -10\n",
      "Third number : 25\n",
      "-10  is smallest\n"
     ]
    }
   ],
   "source": [
    "a,b,c = input(\"Enter three numbers followed by  : \").split()\n",
    "\n",
    "print(\"First number :\",a)\n",
    "print(\"Second number :\",b)\n",
    "print(\"Third number :\",c)\n",
    "\n",
    "if (a==b and b==c):\n",
    "    print(\"Entered numbers are equal!!!\")\n",
    "elif(a<=b and a<c):\n",
    "    print(a,\" is smallest\")\n",
    "elif(b<a and b<c):\n",
    "    print(b,\" is smallest\")\n",
    "else:\n",
    "    print(c,\" is smallest\")"
   ]
  },
  {
   "cell_type": "markdown",
   "metadata": {},
   "source": [
    "## 6. Write a program to print star pyramind. The number of rows should be taken as input from the user"
   ]
  },
  {
   "cell_type": "code",
   "execution_count": 12,
   "metadata": {},
   "outputs": [
    {
     "name": "stdout",
     "output_type": "stream",
     "text": [
      "enter the no of rows : 7\n",
      "        * \n",
      "       * * \n",
      "      * * * \n",
      "     * * * * \n",
      "    * * * * * \n",
      "   * * * * * * \n",
      "  * * * * * * * \n"
     ]
    }
   ],
   "source": [
    "n=int (input('enter the no of rows : '))\n",
    "\n",
    "for i in range(n):\n",
    "    for j in range(-n-1, -i):\n",
    "        print(\" \", end=\"\")\n",
    "    for k in range(i+1):\n",
    "        print(\"* \", end=\"\")\n",
    "    print()"
   ]
  },
  {
   "cell_type": "markdown",
   "metadata": {},
   "source": [
    "## 7. Complete the following code to convert hour into seconds. Output should be as displayed"
   ]
  },
  {
   "cell_type": "code",
   "execution_count": 13,
   "metadata": {},
   "outputs": [
    {
     "name": "stdout",
     "output_type": "stream",
     "text": [
      "Enter time in hours = 12\n",
      "12  Hour is equal to 43200  Seconds\n"
     ]
    }
   ],
   "source": [
    "def to_seconds(t):\n",
    "    t=t*3600\n",
    "    return t\n",
    "time_in_hours = int(input('Enter time in hours = '))\n",
    "print(time_in_hours ,\" Hour is equal to\" ,to_seconds(time_in_hours) ,\" Seconds\")"
   ]
  },
  {
   "cell_type": "markdown",
   "metadata": {},
   "source": [
    "## 8. Write a program to print multiplication table as below"
   ]
  },
  {
   "cell_type": "code",
   "execution_count": 14,
   "metadata": {},
   "outputs": [
    {
     "name": "stdout",
     "output_type": "stream",
     "text": [
      "1  X 67 =  67\n",
      "2  X 67 =  134\n",
      "3  X 67 =  201\n",
      "4  X 67 =  268\n",
      "5  X 67 =  335\n",
      "6  X 67 =  402\n",
      "7  X 67 =  469\n",
      "8  X 67 =  536\n",
      "9  X 67 =  603\n",
      "10  X 67 =  670\n"
     ]
    }
   ],
   "source": [
    "for i in range (1,11):\n",
    "    print(i, \" X 67 = \",i*67,end=\"\\n\")"
   ]
  },
  {
   "cell_type": "markdown",
   "metadata": {},
   "source": [
    "## 9. Write a program to take your 5 favorite food as list and print each as 'I like Biriyani'"
   ]
  },
  {
   "cell_type": "code",
   "execution_count": 15,
   "metadata": {},
   "outputs": [
    {
     "name": "stdout",
     "output_type": "stream",
     "text": [
      "Enter your 5 favorite food\n",
      "Biriyani\n",
      "Chicken Fry\n",
      "Ice cream\n",
      "Idli-Sambar\n",
      "Masala Dosa\n",
      "I like  Biriyani\n",
      "I like  Chicken Fry\n",
      "I like  Ice cream\n",
      "I like  Idli-Sambar\n",
      "I like  Masala Dosa\n"
     ]
    }
   ],
   "source": [
    "print('Enter your 5 favorite food')\n",
    "food=[]\n",
    "for i in range(0,5):\n",
    "    food1=input()\n",
    "    food.append(food1)\n",
    "for j in food:\n",
    "    print('I like ',j)"
   ]
  },
  {
   "cell_type": "code",
   "execution_count": null,
   "metadata": {},
   "outputs": [],
   "source": []
  },
  {
   "cell_type": "code",
   "execution_count": null,
   "metadata": {},
   "outputs": [],
   "source": []
  }
 ],
 "metadata": {
  "kernelspec": {
   "display_name": "Python 3",
   "language": "python",
   "name": "python3"
  },
  "language_info": {
   "codemirror_mode": {
    "name": "ipython",
    "version": 3
   },
   "file_extension": ".py",
   "mimetype": "text/x-python",
   "name": "python",
   "nbconvert_exporter": "python",
   "pygments_lexer": "ipython3",
   "version": "3.8.8"
  }
 },
 "nbformat": 4,
 "nbformat_minor": 4
}
